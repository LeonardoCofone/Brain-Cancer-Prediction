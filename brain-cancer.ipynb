{
 "cells": [
  {
   "cell_type": "markdown",
   "id": "f77b8742",
   "metadata": {
    "papermill": {
     "duration": 0.002944,
     "end_time": "2025-05-01T13:11:23.057145",
     "exception": false,
     "start_time": "2025-05-01T13:11:23.054201",
     "status": "completed"
    },
    "tags": []
   },
   "source": [
    "# **Brain Cancer - MRI**"
   ]
  },
  {
   "cell_type": "markdown",
   "id": "2531e8fe",
   "metadata": {
    "papermill": {
     "duration": 0.002192,
     "end_time": "2025-05-01T13:11:23.062110",
     "exception": false,
     "start_time": "2025-05-01T13:11:23.059918",
     "status": "completed"
    },
    "tags": []
   },
   "source": [
    "## **Powered by 42RandomState**"
   ]
  },
  {
   "cell_type": "markdown",
   "id": "b971fe0b",
   "metadata": {
    "papermill": {
     "duration": 0.00206,
     "end_time": "2025-05-01T13:11:23.066610",
     "exception": false,
     "start_time": "2025-05-01T13:11:23.064550",
     "status": "completed"
    },
    "tags": []
   },
   "source": [
    "**In this project, I built a deep learning model to classify brain cancer MRI images into three categories: brain glioma, brain meningioma, and brain tumor. I used MobileNetV2 as the base architecture and applied transfer learning with pre-trained ImageNet weights. I trained the model using categorical cross-entropy loss and used callbacks such as EarlyStopping and ReduceLROnPlateau to prevent overfitting and adjust the learning rate. After training, I evaluated the model’s performance using metrics like accuracy, precision, recall, confusion matrix, and ROC AUC score, achieving strong classification results.**"
   ]
  },
  {
   "cell_type": "markdown",
   "id": "d216b0b6",
   "metadata": {
    "papermill": {
     "duration": 0.002045,
     "end_time": "2025-05-01T13:11:23.070871",
     "exception": false,
     "start_time": "2025-05-01T13:11:23.068826",
     "status": "completed"
    },
    "tags": []
   },
   "source": [
    "## **1) Analyze and work on data**"
   ]
  },
  {
   "cell_type": "code",
   "execution_count": 1,
   "id": "1c041d2d",
   "metadata": {
    "execution": {
     "iopub.execute_input": "2025-05-01T13:11:23.076368Z",
     "iopub.status.busy": "2025-05-01T13:11:23.076119Z",
     "iopub.status.idle": "2025-05-01T13:11:41.950156Z",
     "shell.execute_reply": "2025-05-01T13:11:41.949577Z"
    },
    "papermill": {
     "duration": 18.878286,
     "end_time": "2025-05-01T13:11:41.951307",
     "exception": false,
     "start_time": "2025-05-01T13:11:23.073021",
     "status": "completed"
    },
    "tags": []
   },
   "outputs": [
    {
     "name": "stderr",
     "output_type": "stream",
     "text": [
      "2025-05-01 13:11:24.697977: E external/local_xla/xla/stream_executor/cuda/cuda_fft.cc:477] Unable to register cuFFT factory: Attempting to register factory for plugin cuFFT when one has already been registered\n",
      "WARNING: All log messages before absl::InitializeLog() is called are written to STDERR\n",
      "E0000 00:00:1746105084.895097      19 cuda_dnn.cc:8310] Unable to register cuDNN factory: Attempting to register factory for plugin cuDNN when one has already been registered\n",
      "E0000 00:00:1746105084.953731      19 cuda_blas.cc:1418] Unable to register cuBLAS factory: Attempting to register factory for plugin cuBLAS when one has already been registered\n"
     ]
    },
    {
     "name": "stdout",
     "output_type": "stream",
     "text": [
      "Found 5149 images belonging to 3 classes.\n",
      "Found 907 images belonging to 3 classes.\n"
     ]
    }
   ],
   "source": [
    "import warnings\n",
    "warnings.filterwarnings('ignore')\n",
    "from tensorflow.keras.preprocessing.image import ImageDataGenerator\n",
    "import os\n",
    "import numpy as np\n",
    "import tensorflow as tf\n",
    "import seaborn as sns\n",
    "import matplotlib.pyplot as plt\n",
    "from tensorflow.keras.applications import MobileNetV2\n",
    "from tensorflow.keras.applications.mobilenet_v2 import preprocess_input\n",
    "from tensorflow.keras.layers import Dense, GlobalAveragePooling2D, Dropout\n",
    "from tensorflow.keras.models import Model\n",
    "from tensorflow.keras.callbacks import EarlyStopping, ReduceLROnPlateau\n",
    "from sklearn.metrics import classification_report, confusion_matrix, roc_auc_score\n",
    "from sklearn.preprocessing import label_binarize\n",
    "from tensorflow.keras.metrics import Precision, Recall\n",
    "\n",
    "dataset_dir = \"/kaggle/input/brain-cancer-mri-dataset/Brain_Cancer raw MRI data/Brain_Cancer\" \n",
    "\n",
    "img_height, img_width = 224, 224\n",
    "batch_size = 32\n",
    "\n",
    "datagen = ImageDataGenerator(\n",
    "    preprocessing_function=preprocess_input,\n",
    "    validation_split=0.15,          \n",
    "    rotation_range=15,\n",
    "    zoom_range=0.1,\n",
    "    horizontal_flip=True\n",
    ")\n",
    " \n",
    "#SPLIT AND PREPARE THE DATA IN A TRAIN_SET AND VALIDATION_SET\n",
    "train_generator = datagen.flow_from_directory(\n",
    "    dataset_dir,\n",
    "    target_size=(img_height, img_width),\n",
    "    batch_size=batch_size,\n",
    "    class_mode='categorical',\n",
    "    subset='training',\n",
    "    shuffle=True\n",
    ")\n",
    "\n",
    "val_generator = datagen.flow_from_directory(\n",
    "    dataset_dir,\n",
    "    target_size=(img_height, img_width),\n",
    "    batch_size=batch_size,\n",
    "    class_mode='categorical',\n",
    "    subset='validation',\n",
    "    shuffle=False\n",
    ")\n"
   ]
  },
  {
   "cell_type": "code",
   "execution_count": 2,
   "id": "4e3a0899",
   "metadata": {
    "execution": {
     "iopub.execute_input": "2025-05-01T13:11:41.958870Z",
     "iopub.status.busy": "2025-05-01T13:11:41.958397Z",
     "iopub.status.idle": "2025-05-01T13:11:43.111125Z",
     "shell.execute_reply": "2025-05-01T13:11:43.110253Z"
    },
    "papermill": {
     "duration": 1.15705,
     "end_time": "2025-05-01T13:11:43.112323",
     "exception": false,
     "start_time": "2025-05-01T13:11:41.955273",
     "status": "completed"
    },
    "tags": []
   },
   "outputs": [
    {
     "name": "stdout",
     "output_type": "stream",
     "text": [
      "TRAIN - Shape images: (32, 224, 224, 3) Shape labels: (32, 3)\n",
      "VALIDATION - Shape images: (32, 224, 224, 3) Shape labels: (32, 3)\n"
     ]
    }
   ],
   "source": [
    "#SHAPE OF THE IMMAGE\n",
    "images, labels = next(train_generator)\n",
    "print(\"TRAIN - Shape images:\", images.shape, \"Shape labels:\", labels.shape)\n",
    "images1, labels1 = next(val_generator)\n",
    "print(\"VALIDATION - Shape images:\", images1.shape, \"Shape labels:\", labels1.shape)"
   ]
  },
  {
   "cell_type": "code",
   "execution_count": 3,
   "id": "f7ad2276",
   "metadata": {
    "execution": {
     "iopub.execute_input": "2025-05-01T13:11:43.118424Z",
     "iopub.status.busy": "2025-05-01T13:11:43.118199Z",
     "iopub.status.idle": "2025-05-01T13:11:43.123428Z",
     "shell.execute_reply": "2025-05-01T13:11:43.122739Z"
    },
    "papermill": {
     "duration": 0.009508,
     "end_time": "2025-05-01T13:11:43.124571",
     "exception": false,
     "start_time": "2025-05-01T13:11:43.115063",
     "status": "completed"
    },
    "tags": []
   },
   "outputs": [
    {
     "name": "stdout",
     "output_type": "stream",
     "text": [
      "TRAIN: Counter({2: 1741, 0: 1704, 1: 1704})\n",
      "VALIDATION: Counter({2: 307, 0: 300, 1: 300})\n"
     ]
    }
   ],
   "source": [
    "import collections\n",
    "counts1 = collections.Counter(train_generator.classes)\n",
    "print(f\"TRAIN: {counts1}\")\n",
    "counts2 = collections.Counter(val_generator.classes)\n",
    "print(f\"VALIDATION: {counts2}\")"
   ]
  },
  {
   "cell_type": "markdown",
   "id": "cbf3b81b",
   "metadata": {
    "papermill": {
     "duration": 0.002269,
     "end_time": "2025-05-01T13:11:43.129353",
     "exception": false,
     "start_time": "2025-05-01T13:11:43.127084",
     "status": "completed"
    },
    "tags": []
   },
   "source": [
    "## **2) Set the model**"
   ]
  },
  {
   "cell_type": "code",
   "execution_count": 4,
   "id": "07396d1f",
   "metadata": {
    "execution": {
     "iopub.execute_input": "2025-05-01T13:11:43.135391Z",
     "iopub.status.busy": "2025-05-01T13:11:43.134799Z",
     "iopub.status.idle": "2025-05-01T13:11:46.424551Z",
     "shell.execute_reply": "2025-05-01T13:11:46.423749Z"
    },
    "papermill": {
     "duration": 3.294052,
     "end_time": "2025-05-01T13:11:46.425933",
     "exception": false,
     "start_time": "2025-05-01T13:11:43.131881",
     "status": "completed"
    },
    "tags": []
   },
   "outputs": [
    {
     "name": "stderr",
     "output_type": "stream",
     "text": [
      "I0000 00:00:1746105104.125103      19 gpu_device.cc:2022] Created device /job:localhost/replica:0/task:0/device:GPU:0 with 15513 MB memory:  -> device: 0, name: Tesla P100-PCIE-16GB, pci bus id: 0000:00:04.0, compute capability: 6.0\n"
     ]
    },
    {
     "name": "stdout",
     "output_type": "stream",
     "text": [
      "Downloading data from https://storage.googleapis.com/tensorflow/keras-applications/mobilenet_v2/mobilenet_v2_weights_tf_dim_ordering_tf_kernels_1.0_224_no_top.h5\n",
      "\u001b[1m9406464/9406464\u001b[0m \u001b[32m━━━━━━━━━━━━━━━━━━━━\u001b[0m\u001b[37m\u001b[0m \u001b[1m0s\u001b[0m 0us/step\n"
     ]
    }
   ],
   "source": [
    "base_model = MobileNetV2(input_shape=(224, 224, 3),include_top=False,weights='imagenet')\n",
    "\n",
    "base_model.trainable = False\n",
    "\n",
    "x = base_model.output\n",
    "x = GlobalAveragePooling2D()(x)\n",
    "x = Dropout(0.3)(x)\n",
    "x = Dense(128, activation='relu')(x)\n",
    "x = Dropout(0.3)(x)\n",
    "predictions = Dense(3, activation='softmax')(x)\n",
    "\n",
    "model = Model(inputs=base_model.input, outputs=predictions)\n"
   ]
  },
  {
   "cell_type": "markdown",
   "id": "26072fd7",
   "metadata": {
    "papermill": {
     "duration": 0.002605,
     "end_time": "2025-05-01T13:11:46.431731",
     "exception": false,
     "start_time": "2025-05-01T13:11:46.429126",
     "status": "completed"
    },
    "tags": []
   },
   "source": [
    "## **3) Train the model**"
   ]
  },
  {
   "cell_type": "code",
   "execution_count": 5,
   "id": "57ef65d6",
   "metadata": {
    "execution": {
     "iopub.execute_input": "2025-05-01T13:11:46.438302Z",
     "iopub.status.busy": "2025-05-01T13:11:46.437812Z",
     "iopub.status.idle": "2025-05-01T13:30:24.071658Z",
     "shell.execute_reply": "2025-05-01T13:30:24.070726Z"
    },
    "papermill": {
     "duration": 1117.657285,
     "end_time": "2025-05-01T13:30:24.091674",
     "exception": false,
     "start_time": "2025-05-01T13:11:46.434389",
     "status": "completed"
    },
    "tags": []
   },
   "outputs": [
    {
     "name": "stdout",
     "output_type": "stream",
     "text": [
      "Epoch 1/25\n"
     ]
    },
    {
     "name": "stderr",
     "output_type": "stream",
     "text": [
      "WARNING: All log messages before absl::InitializeLog() is called are written to STDERR\n",
      "I0000 00:00:1746105118.884217      71 service.cc:148] XLA service 0x7e6c8c1114b0 initialized for platform CUDA (this does not guarantee that XLA will be used). Devices:\n",
      "I0000 00:00:1746105118.885076      71 service.cc:156]   StreamExecutor device (0): Tesla P100-PCIE-16GB, Compute Capability 6.0\n",
      "I0000 00:00:1746105119.872376      71 cuda_dnn.cc:529] Loaded cuDNN version 90300\n"
     ]
    },
    {
     "name": "stdout",
     "output_type": "stream",
     "text": [
      "\u001b[1m  1/161\u001b[0m \u001b[37m━━━━━━━━━━━━━━━━━━━━\u001b[0m \u001b[1m44:58\u001b[0m 17s/step - accuracy: 0.3750 - loss: 2.2638 - precision: 0.3750 - recall: 0.3750"
     ]
    },
    {
     "name": "stderr",
     "output_type": "stream",
     "text": [
      "I0000 00:00:1746105124.196361      71 device_compiler.h:188] Compiled cluster using XLA!  This line is logged at most once for the lifetime of the process.\n"
     ]
    },
    {
     "name": "stdout",
     "output_type": "stream",
     "text": [
      "\u001b[1m161/161\u001b[0m \u001b[32m━━━━━━━━━━━━━━━━━━━━\u001b[0m\u001b[37m\u001b[0m \u001b[1m121s\u001b[0m 652ms/step - accuracy: 0.7011 - loss: 0.7893 - precision: 0.7199 - recall: 0.6669 - val_accuracy: 0.9140 - val_loss: 0.2589 - val_precision: 0.9186 - val_recall: 0.9085 - learning_rate: 0.0010\n",
      "Epoch 2/25\n",
      "\u001b[1m161/161\u001b[0m \u001b[32m━━━━━━━━━━━━━━━━━━━━\u001b[0m\u001b[37m\u001b[0m \u001b[1m67s\u001b[0m 399ms/step - accuracy: 0.8791 - loss: 0.3025 - precision: 0.8849 - recall: 0.8707 - val_accuracy: 0.9338 - val_loss: 0.2015 - val_precision: 0.9380 - val_recall: 0.9338 - learning_rate: 0.0010\n",
      "Epoch 3/25\n",
      "\u001b[1m161/161\u001b[0m \u001b[32m━━━━━━━━━━━━━━━━━━━━\u001b[0m\u001b[37m\u001b[0m \u001b[1m66s\u001b[0m 397ms/step - accuracy: 0.8949 - loss: 0.2711 - precision: 0.9002 - recall: 0.8902 - val_accuracy: 0.9272 - val_loss: 0.2013 - val_precision: 0.9291 - val_recall: 0.9250 - learning_rate: 0.0010\n",
      "Epoch 4/25\n",
      "\u001b[1m161/161\u001b[0m \u001b[32m━━━━━━━━━━━━━━━━━━━━\u001b[0m\u001b[37m\u001b[0m \u001b[1m66s\u001b[0m 397ms/step - accuracy: 0.9096 - loss: 0.2323 - precision: 0.9121 - recall: 0.9033 - val_accuracy: 0.9327 - val_loss: 0.1847 - val_precision: 0.9358 - val_recall: 0.9327 - learning_rate: 0.0010\n",
      "Epoch 5/25\n",
      "\u001b[1m161/161\u001b[0m \u001b[32m━━━━━━━━━━━━━━━━━━━━\u001b[0m\u001b[37m\u001b[0m \u001b[1m66s\u001b[0m 397ms/step - accuracy: 0.9176 - loss: 0.2304 - precision: 0.9216 - recall: 0.9130 - val_accuracy: 0.9504 - val_loss: 0.1624 - val_precision: 0.9535 - val_recall: 0.9493 - learning_rate: 0.0010\n",
      "Epoch 6/25\n",
      "\u001b[1m161/161\u001b[0m \u001b[32m━━━━━━━━━━━━━━━━━━━━\u001b[0m\u001b[37m\u001b[0m \u001b[1m66s\u001b[0m 392ms/step - accuracy: 0.9153 - loss: 0.2166 - precision: 0.9182 - recall: 0.9120 - val_accuracy: 0.9228 - val_loss: 0.2114 - val_precision: 0.9238 - val_recall: 0.9217 - learning_rate: 0.0010\n",
      "Epoch 7/25\n",
      "\u001b[1m161/161\u001b[0m \u001b[32m━━━━━━━━━━━━━━━━━━━━\u001b[0m\u001b[37m\u001b[0m \u001b[1m66s\u001b[0m 395ms/step - accuracy: 0.9198 - loss: 0.2032 - precision: 0.9258 - recall: 0.9132 - val_accuracy: 0.9438 - val_loss: 0.1494 - val_precision: 0.9458 - val_recall: 0.9427 - learning_rate: 0.0010\n",
      "Epoch 8/25\n",
      "\u001b[1m161/161\u001b[0m \u001b[32m━━━━━━━━━━━━━━━━━━━━\u001b[0m\u001b[37m\u001b[0m \u001b[1m66s\u001b[0m 393ms/step - accuracy: 0.9260 - loss: 0.1929 - precision: 0.9268 - recall: 0.9213 - val_accuracy: 0.9438 - val_loss: 0.1605 - val_precision: 0.9458 - val_recall: 0.9427 - learning_rate: 0.0010\n",
      "Epoch 9/25\n",
      "\u001b[1m161/161\u001b[0m \u001b[32m━━━━━━━━━━━━━━━━━━━━\u001b[0m\u001b[37m\u001b[0m \u001b[1m66s\u001b[0m 398ms/step - accuracy: 0.9343 - loss: 0.1727 - precision: 0.9379 - recall: 0.9312 - val_accuracy: 0.9316 - val_loss: 0.1635 - val_precision: 0.9324 - val_recall: 0.9272 - learning_rate: 0.0010\n",
      "Epoch 10/25\n",
      "\u001b[1m161/161\u001b[0m \u001b[32m━━━━━━━━━━━━━━━━━━━━\u001b[0m\u001b[37m\u001b[0m \u001b[1m66s\u001b[0m 394ms/step - accuracy: 0.9357 - loss: 0.1709 - precision: 0.9405 - recall: 0.9319 - val_accuracy: 0.9537 - val_loss: 0.1346 - val_precision: 0.9558 - val_recall: 0.9526 - learning_rate: 5.0000e-04\n",
      "Epoch 11/25\n",
      "\u001b[1m161/161\u001b[0m \u001b[32m━━━━━━━━━━━━━━━━━━━━\u001b[0m\u001b[37m\u001b[0m \u001b[1m68s\u001b[0m 405ms/step - accuracy: 0.9409 - loss: 0.1619 - precision: 0.9432 - recall: 0.9386 - val_accuracy: 0.9581 - val_loss: 0.1199 - val_precision: 0.9581 - val_recall: 0.9570 - learning_rate: 5.0000e-04\n",
      "Epoch 12/25\n",
      "\u001b[1m161/161\u001b[0m \u001b[32m━━━━━━━━━━━━━━━━━━━━\u001b[0m\u001b[37m\u001b[0m \u001b[1m67s\u001b[0m 398ms/step - accuracy: 0.9398 - loss: 0.1613 - precision: 0.9433 - recall: 0.9366 - val_accuracy: 0.9537 - val_loss: 0.1320 - val_precision: 0.9547 - val_recall: 0.9526 - learning_rate: 5.0000e-04\n",
      "Epoch 13/25\n",
      "\u001b[1m161/161\u001b[0m \u001b[32m━━━━━━━━━━━━━━━━━━━━\u001b[0m\u001b[37m\u001b[0m \u001b[1m65s\u001b[0m 392ms/step - accuracy: 0.9475 - loss: 0.1385 - precision: 0.9497 - recall: 0.9465 - val_accuracy: 0.9625 - val_loss: 0.1085 - val_precision: 0.9636 - val_recall: 0.9625 - learning_rate: 5.0000e-04\n",
      "Epoch 14/25\n",
      "\u001b[1m161/161\u001b[0m \u001b[32m━━━━━━━━━━━━━━━━━━━━\u001b[0m\u001b[37m\u001b[0m \u001b[1m67s\u001b[0m 401ms/step - accuracy: 0.9468 - loss: 0.1424 - precision: 0.9483 - recall: 0.9448 - val_accuracy: 0.9471 - val_loss: 0.1278 - val_precision: 0.9491 - val_recall: 0.9449 - learning_rate: 5.0000e-04\n",
      "Epoch 15/25\n",
      "\u001b[1m161/161\u001b[0m \u001b[32m━━━━━━━━━━━━━━━━━━━━\u001b[0m\u001b[37m\u001b[0m \u001b[1m66s\u001b[0m 396ms/step - accuracy: 0.9467 - loss: 0.1455 - precision: 0.9478 - recall: 0.9443 - val_accuracy: 0.9504 - val_loss: 0.1111 - val_precision: 0.9514 - val_recall: 0.9504 - learning_rate: 5.0000e-04\n",
      "Epoch 16/25\n",
      "\u001b[1m161/161\u001b[0m \u001b[32m━━━━━━━━━━━━━━━━━━━━\u001b[0m\u001b[37m\u001b[0m \u001b[1m67s\u001b[0m 400ms/step - accuracy: 0.9534 - loss: 0.1211 - precision: 0.9550 - recall: 0.9517 - val_accuracy: 0.9581 - val_loss: 0.1097 - val_precision: 0.9602 - val_recall: 0.9570 - learning_rate: 2.5000e-04\n"
     ]
    }
   ],
   "source": [
    "lr_scheduler = ReduceLROnPlateau(monitor='val_loss', factor=0.5, patience=2, min_lr=1e-6)\n",
    "early_stopping = EarlyStopping(monitor='val_loss', patience=3, restore_best_weights=True)\n",
    "model.compile(optimizer='adam',loss='categorical_crossentropy', metrics=['accuracy', Precision(), Recall()])\n",
    "history = model.fit(train_generator,validation_data=val_generator,epochs=25, callbacks=[early_stopping, lr_scheduler])"
   ]
  },
  {
   "cell_type": "code",
   "execution_count": 6,
   "id": "692c7494",
   "metadata": {
    "execution": {
     "iopub.execute_input": "2025-05-01T13:30:24.304368Z",
     "iopub.status.busy": "2025-05-01T13:30:24.304072Z",
     "iopub.status.idle": "2025-05-01T13:30:24.669971Z",
     "shell.execute_reply": "2025-05-01T13:30:24.669151Z"
    },
    "papermill": {
     "duration": 0.472809,
     "end_time": "2025-05-01T13:30:24.671154",
     "exception": false,
     "start_time": "2025-05-01T13:30:24.198345",
     "status": "completed"
    },
    "tags": []
   },
   "outputs": [
    {
     "data": {
      "image/png": "[encoded data removed]",
      "text/plain": [
       "<Figure size 1200x500 with 2 Axes>"
      ]
     },
     "metadata": {},
     "output_type": "display_data"
    }
   ],
   "source": [
    "#PLOT TRAINING PROGRESS\n",
    "def plot_history(history):\n",
    "    plt.figure(figsize=(12, 5))\n",
    "    \n",
    "    # Accuracy\n",
    "    plt.subplot(1, 2, 1)\n",
    "    plt.plot(history.history['accuracy'], label='Train Acc')\n",
    "    plt.plot(history.history['val_accuracy'], label='Val Acc')\n",
    "    plt.title('Accuracy')\n",
    "    plt.xlabel('Epoch')\n",
    "    plt.ylabel('Accuracy')\n",
    "    plt.legend()\n",
    "\n",
    "    # Loss\n",
    "    plt.subplot(1, 2, 2)\n",
    "    plt.plot(history.history['loss'], label='Train Loss')\n",
    "    plt.plot(history.history['val_loss'], label='Val Loss')\n",
    "    plt.title('Loss')\n",
    "    plt.xlabel('Epoch')\n",
    "    plt.ylabel('Loss')\n",
    "    plt.legend()\n",
    "\n",
    "    plt.tight_layout()\n",
    "    plt.show()\n",
    "\n",
    "plot_history(history)"
   ]
  },
  {
   "cell_type": "markdown",
   "id": "b9a8ea94",
   "metadata": {
    "papermill": {
     "duration": 0.164876,
     "end_time": "2025-05-01T13:30:24.949467",
     "exception": false,
     "start_time": "2025-05-01T13:30:24.784591",
     "status": "completed"
    },
    "tags": []
   },
   "source": [
    "## **4) Make the final test**"
   ]
  },
  {
   "cell_type": "code",
   "execution_count": 7,
   "id": "bc450111",
   "metadata": {
    "execution": {
     "iopub.execute_input": "2025-05-01T13:30:25.191990Z",
     "iopub.status.busy": "2025-05-01T13:30:25.191650Z",
     "iopub.status.idle": "2025-05-01T13:30:42.116735Z",
     "shell.execute_reply": "2025-05-01T13:30:42.115878Z"
    },
    "papermill": {
     "duration": 17.061851,
     "end_time": "2025-05-01T13:30:42.118002",
     "exception": false,
     "start_time": "2025-05-01T13:30:25.056151",
     "status": "completed"
    },
    "tags": []
   },
   "outputs": [
    {
     "name": "stdout",
     "output_type": "stream",
     "text": [
      "\u001b[1m29/29\u001b[0m \u001b[32m━━━━━━━━━━━━━━━━━━━━\u001b[0m\u001b[37m\u001b[0m \u001b[1m16s\u001b[0m 442ms/step\n",
      "Classification Report:\n",
      "               precision    recall  f1-score   support\n",
      "\n",
      "brain_glioma       0.98      0.96      0.97       300\n",
      " brain_menin       0.93      0.95      0.94       300\n",
      " brain_tumor       0.96      0.97      0.96       307\n",
      "\n",
      "    accuracy                           0.96       907\n",
      "   macro avg       0.96      0.96      0.96       907\n",
      "weighted avg       0.96      0.96      0.96       907\n",
      "\n"
     ]
    },
    {
     "data": {
      "image/png": "[encoded data removed]",
      "text/plain": [
       "<Figure size 600x400 with 2 Axes>"
      ]
     },
     "metadata": {},
     "output_type": "display_data"
    },
    {
     "name": "stdout",
     "output_type": "stream",
     "text": [
      "ROC AUC Score: 0.9958906764547525\n"
     ]
    }
   ],
   "source": [
    "val_generator.reset()\n",
    "y_pred_probs = model.predict(val_generator)\n",
    "y_pred = np.argmax(y_pred_probs, axis=1)\n",
    "y_true = val_generator.classes\n",
    "class_names = list(val_generator.class_indices.keys())\n",
    "\n",
    "print(f\"Classification Report:\\n {classification_report(y_true, y_pred, target_names=class_names)}\")\n",
    "\n",
    "cm = confusion_matrix(y_true, y_pred)\n",
    "plt.figure(figsize=(6, 4))\n",
    "sns.heatmap(cm, annot=True, fmt='d', xticklabels=class_names, yticklabels=class_names, cmap='Blues')\n",
    "plt.xlabel('Predicted')\n",
    "plt.ylabel('True')\n",
    "plt.title('Confusion Matrix')\n",
    "plt.show()\n",
    "\n",
    "y_true_bin = label_binarize(y_true, classes=[0, 1, 2])\n",
    "roc_auc = roc_auc_score(y_true_bin, y_pred_probs, average='macro', multi_class='ovr')\n",
    "print(\"ROC AUC Score:\", roc_auc)"
   ]
  },
  {
   "cell_type": "markdown",
   "id": "50950537",
   "metadata": {
    "papermill": {
     "duration": 0.106256,
     "end_time": "2025-05-01T13:30:42.332920",
     "exception": false,
     "start_time": "2025-05-01T13:30:42.226664",
     "status": "completed"
    },
    "tags": []
   },
   "source": [
    "## **5) Save the model**"
   ]
  },
  {
   "cell_type": "code",
   "execution_count": 8,
   "id": "0cee442f",
   "metadata": {
    "execution": {
     "iopub.execute_input": "2025-05-01T13:30:42.546622Z",
     "iopub.status.busy": "2025-05-01T13:30:42.546304Z",
     "iopub.status.idle": "2025-05-01T13:30:42.800413Z",
     "shell.execute_reply": "2025-05-01T13:30:42.799625Z"
    },
    "papermill": {
     "duration": 0.363452,
     "end_time": "2025-05-01T13:30:42.801906",
     "exception": false,
     "start_time": "2025-05-01T13:30:42.438454",
     "status": "completed"
    },
    "tags": []
   },
   "outputs": [],
   "source": [
    "model.save(\"brain_tumor_classifier.h5\")"
   ]
  },
  {
   "cell_type": "markdown",
   "id": "fa844c03",
   "metadata": {
    "papermill": {
     "duration": 0.106964,
     "end_time": "2025-05-01T13:30:43.017966",
     "exception": false,
     "start_time": "2025-05-01T13:30:42.911002",
     "status": "completed"
    },
    "tags": []
   },
   "source": [
    "**We can see that we have achieved a solid model, Thank you!**"
   ]
  }
 ],
 "metadata": {
  "kaggle": {
   "accelerator": "gpu",
   "dataSources": [
    {
     "datasetId": 7006196,
     "sourceId": 11239552,
     "sourceType": "datasetVersion"
    }
   ],
   "dockerImageVersionId": 31011,
   "isGpuEnabled": true,
   "isInternetEnabled": true,
   "language": "python",
   "sourceType": "notebook"
  },
  "kernelspec": {
   "display_name": "Python 3",
   "language": "python",
   "name": "python3"
  },
  "language_info": {
   "codemirror_mode": {
    "name": "ipython",
    "version": 3
   },
   "file_extension": ".py",
   "mimetype": "text/x-python",
   "name": "python",
   "nbconvert_exporter": "python",
   "pygments_lexer": "ipython3",
   "version": "3.11.11"
  },
  "papermill": {
   "default_parameters": {},
   "duration": 1167.57903,
   "end_time": "2025-05-01T13:30:46.659291",
   "environment_variables": {},
   "exception": null,
   "input_path": "__notebook__.ipynb",
   "output_path": "__notebook__.ipynb",
   "parameters": {},
   "start_time": "2025-05-01T13:11:19.080261",
   "version": "2.6.0"
  }
 },
 "nbformat": 4,
 "nbformat_minor": 5
}
